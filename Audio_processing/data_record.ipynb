{
 "cells": [
  {
   "cell_type": "code",
   "execution_count": 2,
   "metadata": {},
   "outputs": [
    {
     "name": "stdout",
     "output_type": "stream",
     "text": [
      "Collecting pynput\n",
      "  Using cached pynput-1.8.1-py2.py3-none-any.whl.metadata (32 kB)\n",
      "Requirement already satisfied: six in c:\\users\\quang nguyen\\appdata\\local\\packages\\pythonsoftwarefoundation.python.3.11_qbz5n2kfra8p0\\localcache\\local-packages\\python311\\site-packages (from pynput) (1.17.0)\n",
      "Using cached pynput-1.8.1-py2.py3-none-any.whl (91 kB)\n",
      "Installing collected packages: pynput\n",
      "Successfully installed pynput-1.8.1\n",
      "Requirement already satisfied: pyaudio in c:\\users\\quang nguyen\\appdata\\local\\packages\\pythonsoftwarefoundation.python.3.11_qbz5n2kfra8p0\\localcache\\local-packages\\python311\\site-packages (0.2.14)\n"
     ]
    }
   ],
   "source": [
    "!pip install pynput\n",
    "!pip install pyaudio\n",
    "\n",
    "import os\n",
    "import wave\n",
    "import pyaudio\n",
    "import random\n",
    "import threading\n",
    "import queue\n",
    "from pynput import keyboard\n",
    "\n",
    "\n",
    "# Cell 1: Xác định các nhãn dữ liệu\n",
    "LABELS = [\n",
    "    \"bat_den\", \"tat_den\",\n",
    "    \"bat_quat\", \"tat_quat\",\n",
    "    \"bat_may_quay\", \"tat_may_quay\",\n",
    "    \"hien_thi_nhiet_do\", \"hien_thi_do_am\", \"hien_thi_chat_luong_khong_khi\"\n",
    "    \"1\",\"2\",\"3\",\"4\",\"5\",\"6\",\"7\",\"8\",\"9\",\"0\",\n",
    "    \"khong\", \"co\", \"khong_co\",\n",
    "    \"bat\", \"tat\",\n",
    "]\n",
    "\n",
    "UNITS = [\"mươi\",\"trăm\",\"nghìn\",\"triệu\",\"tỷ\"]\n",
    "CONFIRMATION_WORDS = [\"đúng\", \"không đúng\", \"đồng ý\", \"không đồng ý\", \"tôi đồng ý\", \"tôi không đồng ý\"]\n",
    "\n",
    "\n",
    "# Cell 2: Hàm đảm bảo thư mục tồn tại\n",
    "def ensure_directory(label):\n",
    "    \"\"\"Tạo thư mục nếu chưa tồn tại.\"\"\"\n",
    "    if not os.path.exists(label):\n",
    "        os.makedirs(label)\n",
    "\n",
    "\n",
    "# Cell 3: Hàm tạo tên file duy nhất\n",
    "def generate_unique_filename(label):\n",
    "    \"\"\"Sinh tên file không trùng trong thư mục của nhãn.\"\"\"\n",
    "    while True:\n",
    "        filename = f\"{label}_{random.randint(1000, 9999)}.wav\"\n",
    "        filepath = os.path.join(label, filename)\n",
    "        if not os.path.exists(filepath):\n",
    "            return filepath\n",
    "        \n",
    "        \n",
    "# Cell 4: Hàm ghi âm\n",
    "def record_audio(label, rate=44100, channels=1, chunk=1024):\n",
    "    \"\"\"Thu âm và lưu vào thư mục tương ứng. Nhấn Enter để dừng ghi âm.\"\"\"\n",
    "    ensure_directory(label)\n",
    "    filepath = generate_unique_filename(label)\n",
    "    \n",
    "    # Tạo queue để lưu frames âm thanh\n",
    "    audio_frames = queue.Queue()\n",
    "    # Biến để kiểm soát việc ghi âm\n",
    "    is_recording = threading.Event()\n",
    "    is_recording.set()  # Bắt đầu ghi âm\n",
    "\n",
    "    def on_press(key):\n",
    "        \"\"\"Callback khi có phím được nhấn\"\"\"\n",
    "        if key == keyboard.Key.enter:\n",
    "            is_recording.clear()  # Dừng ghi âm\n",
    "            return False  # Dừng listener\n",
    "\n",
    "    def audio_callback(in_data, frame_count, time_info, status):\n",
    "        \"\"\"Callback để xử lý dữ liệu âm thanh\"\"\"\n",
    "        if is_recording.is_set():\n",
    "            audio_frames.put(in_data)\n",
    "        return (in_data, pyaudio.paContinue)\n",
    "\n",
    "    # Khởi tạo PyAudio\n",
    "    audio = pyaudio.PyAudio()\n",
    "    \n",
    "    # Mở stream với callback\n",
    "    stream = audio.open(\n",
    "        format=pyaudio.paInt16,\n",
    "        channels=channels,\n",
    "        rate=rate,\n",
    "        input=True,\n",
    "        frames_per_buffer=chunk,\n",
    "        stream_callback=audio_callback\n",
    "    )\n",
    "\n",
    "    print(f\"Đang thu âm: {label}\")\n",
    "    print(\"Nhấn Enter để dừng ghi âm...\")\n",
    "\n",
    "    # Bắt đầu lắng nghe phím\n",
    "    with keyboard.Listener(on_press=on_press) as listener:\n",
    "        stream.start_stream()\n",
    "        listener.join()  # Chờ đến khi nhấn Enter\n",
    "\n",
    "    # Dừng và đóng stream\n",
    "    stream.stop_stream()\n",
    "    stream.close()\n",
    "    audio.terminate()\n",
    "\n",
    "    # Lấy tất cả frames từ queue\n",
    "    frames = []\n",
    "    while not audio_frames.empty():\n",
    "        frames.append(audio_frames.get())\n",
    "\n",
    "    # Lưu file\n",
    "    with wave.open(filepath, 'wb') as wf:\n",
    "        wf.setnchannels(channels)\n",
    "        wf.setsampwidth(audio.get_sample_size(pyaudio.paInt16))\n",
    "        wf.setframerate(rate)\n",
    "        wf.writeframes(b''.join(frames))\n",
    "\n",
    "    print(f\"Đã lưu file: {filepath}\\n\\n\")"
   ]
  },
  {
   "cell_type": "markdown",
   "metadata": {},
   "source": [
    "### **Thu âm điều khiển thiết bị**"
   ]
  },
  {
   "cell_type": "code",
   "execution_count": 3,
   "metadata": {},
   "outputs": [
    {
     "name": "stdout",
     "output_type": "stream",
     "text": [
      "Đang thu âm: bat_quat\n",
      "Nhấn Enter để dừng ghi âm...\n",
      "Đã lưu file: bat_quat\\bat_quat_1048.wav\n",
      "\n",
      "\n",
      "Đang thu âm: tat_quat\n",
      "Nhấn Enter để dừng ghi âm...\n",
      "Đã lưu file: tat_quat\\tat_quat_7538.wav\n",
      "\n",
      "\n",
      "Đang thu âm: bat_may_quay\n",
      "Nhấn Enter để dừng ghi âm...\n",
      "Đã lưu file: bat_may_quay\\bat_may_quay_1370.wav\n",
      "\n",
      "\n",
      "Đang thu âm: tat_may_quay\n",
      "Nhấn Enter để dừng ghi âm...\n",
      "Đã lưu file: tat_may_quay\\tat_may_quay_2570.wav\n",
      "\n",
      "\n"
     ]
    }
   ],
   "source": [
    "\n",
    "\n",
    "\n",
    "### Thu âm bật quạt\n",
    "label = \"bat_quat\"\n",
    "record_audio(label)\n",
    "\n",
    "### Thu âm tắt quạt\n",
    "label = \"tat_quat\"\n",
    "record_audio(label)\n",
    "\n",
    "### Thu âm bật máy quay\n",
    "label = \"bat_may_quay\"\n",
    "record_audio(label)\n",
    "\n",
    "### Thu âm tắt máy quay\n",
    "label = \"tat_may_quay\"\n",
    "record_audio(label)"
   ]
  },
  {
   "cell_type": "markdown",
   "metadata": {},
   "source": [
    "### **Thu âm yêu cầu hiển thị thông tin**"
   ]
  },
  {
   "cell_type": "code",
   "execution_count": null,
   "metadata": {},
   "outputs": [],
   "source": [
    "### Thu âm hiển thị nhiệt độ\n",
    "label = \"hien_thi_nhiet_do\"\n",
    "record_audio(label)\n",
    "\n",
    "### Thu âm hiển thị độ ẩm\n",
    "label = \"hien_thi_do_am\"\n",
    "record_audio(label)\n",
    "\n",
    "### Thu âm hiển thị chất lượng không khí\n",
    "label = \"hien_thi_chat_luong_khong_khi\"\n",
    "record_audio(label)\n",
    "\n",
    "\n",
    "### Thu âm hiển thị thời gian\n",
    "label = \"hien_thi_thoi_gian\"\n",
    "record_audio(label)\n",
    "\n",
    "\n",
    "### Thu âm hiển thị ngày\n",
    "label = \"hien_thi_ngày\"\n",
    "record_audio(label)"
   ]
  },
  {
   "cell_type": "markdown",
   "metadata": {},
   "source": [
    "### **Thu âm các số**"
   ]
  },
  {
   "cell_type": "code",
   "execution_count": null,
   "metadata": {},
   "outputs": [],
   "source": [
    "### Thu âm các số\n",
    "for num in range(10):\n",
    "    label = str(num)\n",
    "    print(f\"\\nThu âm số {num}\")\n",
    "    record_audio(label)\n",
    "\n",
    "### Thu âm các đơn vị\n",
    "for unit in UNITS:\n",
    "    label = unit\n",
    "    print(f\"\\nThu âm đơn vị: {unit}\")\n",
    "    record_audio(label)\n"
   ]
  },
  {
   "cell_type": "markdown",
   "metadata": {},
   "source": [
    "### **Thu âm tắt đèn**"
   ]
  },
  {
   "cell_type": "code",
   "execution_count": null,
   "metadata": {},
   "outputs": [],
   "source": [
    "### Thu âm các từ xác nhận\n",
    "for word in CONFIRMATION_WORDS:\n",
    "    print(f\"\\nThu âm từ '{word}'\")\n",
    "    record_audio(word)"
   ]
  }
 ],
 "metadata": {
  "kernelspec": {
   "display_name": "Python 3",
   "language": "python",
   "name": "python3"
  },
  "language_info": {
   "codemirror_mode": {
    "name": "ipython",
    "version": 3
   },
   "file_extension": ".py",
   "mimetype": "text/x-python",
   "name": "python",
   "nbconvert_exporter": "python",
   "pygments_lexer": "ipython3",
   "version": "3.11.9"
  }
 },
 "nbformat": 4,
 "nbformat_minor": 2
}
